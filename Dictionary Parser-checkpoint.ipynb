{
 "cells": [
  {
   "cell_type": "markdown",
   "id": "9d287e33",
   "metadata": {},
   "source": [
    "Create a class for dictionary parsing\n",
    "\n",
    "1) write a function to give all the keys                                                                                    \n",
    "2) write a function to give all the values                                                                                     \n",
    "3) write a function to throw an exception in case of input is not dictionary                                                   \n",
    "4) write a function to take user input and then parse the key and value out of dictionary                                       \n",
    "5) write a function to insert new key value pair into the dictionary                                                            "
   ]
  },
  {
   "cell_type": "code",
   "execution_count": 1,
   "id": "12a2b3d0",
   "metadata": {},
   "outputs": [],
   "source": [
    "class dict_parsing:\n",
    "    def __init__(self, d):\n",
    "        self.d=d\n",
    "    def check_dict(self):\n",
    "        if type(self.d) != dict:\n",
    "            raise Exception(self.d, \"Not a dictionary\")\n",
    "        return True\n",
    "    def get_keys(self):\n",
    "        if self.check_dict(): #accessing class function using self pointer is very important\n",
    "            return self.d.keys()\n",
    "    def get_values(self):\n",
    "        if self.check_dict(): #accessing class function using self pointer is very important\n",
    "            return self.d.values()\n",
    "    def user_input(self):\n",
    "        '''\n",
    "        The eval() function evaluates the specified expression, if the expression is a legal Python statement, \n",
    "        it will be executed.It is mandatory. Otherwise it fails identifying keys and values\n",
    "        '''\n",
    "        d1=eval(input('Enter key value pair: '))\n",
    "        return d1.keys(), d1.values()\n",
    "    def insert_dict_items(self,k,v):\n",
    "        self.d[k]=v\n",
    "        return self.d\n",
    "        \n",
    "    \n",
    "       \n",
    "    \n",
    "            \n",
    "    "
   ]
  },
  {
   "cell_type": "markdown",
   "id": "78f36b3a",
   "metadata": {},
   "source": [
    "Object reference and Function Call for dictionary parsing"
   ]
  },
  {
   "cell_type": "code",
   "execution_count": 2,
   "id": "9696dca4",
   "metadata": {},
   "outputs": [],
   "source": [
    "a=dict_parsing({'valli':'listening sandalee song',1:2})"
   ]
  },
  {
   "cell_type": "code",
   "execution_count": 3,
   "id": "54328b9a",
   "metadata": {},
   "outputs": [
    {
     "data": {
      "text/plain": [
       "True"
      ]
     },
     "execution_count": 3,
     "metadata": {},
     "output_type": "execute_result"
    }
   ],
   "source": [
    "a.check_dict()"
   ]
  },
  {
   "cell_type": "code",
   "execution_count": 4,
   "id": "8fa05b43",
   "metadata": {},
   "outputs": [
    {
     "data": {
      "text/plain": [
       "dict_keys(['valli', 1])"
      ]
     },
     "execution_count": 4,
     "metadata": {},
     "output_type": "execute_result"
    }
   ],
   "source": [
    "a.get_keys()"
   ]
  },
  {
   "cell_type": "code",
   "execution_count": 5,
   "id": "4e2a4272",
   "metadata": {},
   "outputs": [
    {
     "data": {
      "text/plain": [
       "dict_values(['listening sandalee song', 2])"
      ]
     },
     "execution_count": 5,
     "metadata": {},
     "output_type": "execute_result"
    }
   ],
   "source": [
    "a.get_values()"
   ]
  },
  {
   "cell_type": "code",
   "execution_count": 6,
   "id": "60dbd508",
   "metadata": {},
   "outputs": [
    {
     "name": "stdout",
     "output_type": "stream",
     "text": [
      "Enter key value pair: {'Valli-now':'Enjoying Music',1:(1,2,3,4)}\n"
     ]
    },
    {
     "data": {
      "text/plain": [
       "(dict_keys(['Valli-now', 1]), dict_values(['Enjoying Music', (1, 2, 3, 4)]))"
      ]
     },
     "execution_count": 6,
     "metadata": {},
     "output_type": "execute_result"
    }
   ],
   "source": [
    "a.user_input()"
   ]
  },
  {
   "cell_type": "code",
   "execution_count": 7,
   "id": "8b6d7f0b",
   "metadata": {},
   "outputs": [
    {
     "data": {
      "text/plain": [
       "{'valli': 'listening sandalee song',\n",
       " 1: 2,\n",
       " 'Valli-now-now': 'song in repeated mode!!'}"
      ]
     },
     "execution_count": 7,
     "metadata": {},
     "output_type": "execute_result"
    }
   ],
   "source": [
    "a.insert_dict_items('Valli-now-now','song in repeated mode!!')"
   ]
  }
 ],
 "metadata": {
  "kernelspec": {
   "display_name": "Python 3",
   "language": "python",
   "name": "python3"
  },
  "language_info": {
   "codemirror_mode": {
    "name": "ipython",
    "version": 3
   },
   "file_extension": ".py",
   "mimetype": "text/x-python",
   "name": "python",
   "nbconvert_exporter": "python",
   "pygments_lexer": "ipython3",
   "version": "3.8.8"
  }
 },
 "nbformat": 4,
 "nbformat_minor": 5
}
