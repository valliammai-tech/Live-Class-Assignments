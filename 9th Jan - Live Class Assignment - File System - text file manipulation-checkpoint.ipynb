{
 "cells": [
  {
   "cell_type": "markdown",
   "id": "9c17ee14",
   "metadata": {},
   "source": [
    "# Python Function to identify text files in a directory and\n",
    "\n",
    "# Create new text file by appending the contents of those text files identified"
   ]
  },
  {
   "cell_type": "code",
   "execution_count": 1,
   "id": "cdf96494",
   "metadata": {},
   "outputs": [
    {
     "data": {
      "text/plain": [
       "'C:\\\\Users\\\\vmuth'"
      ]
     },
     "execution_count": 1,
     "metadata": {},
     "output_type": "execute_result"
    }
   ],
   "source": [
    "import os\n",
    "os.getcwd() # to get current working directory"
   ]
  },
  {
   "cell_type": "code",
   "execution_count": 2,
   "id": "289f8bf5",
   "metadata": {},
   "outputs": [
    {
     "data": {
      "text/plain": [
       "['.conda',\n",
       " '.condarc',\n",
       " '.continuum',\n",
       " '.ipynb_checkpoints',\n",
       " '.ipython',\n",
       " '.jupyter',\n",
       " '.matplotlib',\n",
       " '19th - 23rd dec class exercise.ipynb',\n",
       " '23rd-dec-live-class-exercise-solutions.ipynb',\n",
       " '3D Objects',\n",
       " '9th Jan - Live Class Assignment - File System - text file manipulation.ipynb',\n",
       " 'anaconda3',\n",
       " 'AppData',\n",
       " 'Application Data',\n",
       " 'Contacts',\n",
       " 'Cookies',\n",
       " 'Desktop',\n",
       " 'Documents',\n",
       " 'Downloads',\n",
       " 'Favorites',\n",
       " 'IntelGraphicsProfiles',\n",
       " 'Links',\n",
       " 'Local Settings',\n",
       " 'Music',\n",
       " 'My Documents',\n",
       " 'NetHood',\n",
       " 'NTUSER.DAT',\n",
       " 'ntuser.dat.LOG1',\n",
       " 'ntuser.dat.LOG2',\n",
       " 'NTUSER.DAT{1c2b59c6-c5f5-11eb-bacb-000d3a96488e}.TM.blf',\n",
       " 'NTUSER.DAT{1c2b59c6-c5f5-11eb-bacb-000d3a96488e}.TMContainer00000000000000000001.regtrans-ms',\n",
       " 'NTUSER.DAT{1c2b59c6-c5f5-11eb-bacb-000d3a96488e}.TMContainer00000000000000000002.regtrans-ms',\n",
       " 'ntuser.ini',\n",
       " 'OneDrive',\n",
       " 'Pictures',\n",
       " 'PrintHood',\n",
       " 'Recent',\n",
       " 'Saved Games',\n",
       " 'Searches',\n",
       " 'SendTo',\n",
       " 'Start Menu',\n",
       " 'Templates',\n",
       " 'test1.txt',\n",
       " 'test2.txt',\n",
       " 'Tracing',\n",
       " 'Untitled.ipynb',\n",
       " 'Videos']"
      ]
     },
     "execution_count": 2,
     "metadata": {},
     "output_type": "execute_result"
    }
   ],
   "source": [
    "os.listdir() # to check list of files/folders available in current directory"
   ]
  },
  {
   "cell_type": "code",
   "execution_count": 3,
   "id": "84279da7",
   "metadata": {},
   "outputs": [],
   "source": [
    "def get_text_files_from_dir():\n",
    "    '''\n",
    "    This function identifies list of text files available in current working directory during runtime \n",
    "    and returns generator object.\n",
    "    '''\n",
    "    l=os.listdir()\n",
    "    for i in range(len(l)):\n",
    "        if l[i].endswith('.txt'):\n",
    "            yield l[i]"
   ]
  },
  {
   "cell_type": "code",
   "execution_count": 4,
   "id": "a026d3e5",
   "metadata": {},
   "outputs": [
    {
     "name": "stdout",
     "output_type": "stream",
     "text": [
      "test1.txt\n",
      "test2.txt\n"
     ]
    }
   ],
   "source": [
    "for i in get_text_files_from_dir():\n",
    "    print(i) # verify list of files using generator"
   ]
  },
  {
   "cell_type": "code",
   "execution_count": 5,
   "id": "f36de3d7",
   "metadata": {},
   "outputs": [],
   "source": [
    "def append_text_files():\n",
    "    '''\n",
    "    This function creates new text file for final content appending from all text files identified using generator object.\n",
    "    Note:- After every file.read() function, cursor has to be set to beginning using file.seek(0) function.\n",
    "    '''\n",
    "    file=open('final_text_file.txt','w')\n",
    "    file.write('This is my final test file newly created.')\n",
    "    file.close()\n",
    "    file=open('final_text_file.txt','r')\n",
    "    print('content of file BEFORE appending to final test file: \\n', file.read())\n",
    "    file.close()\n",
    "    file=open('final_text_file.txt','a+')\n",
    "    for i in get_text_files_from_dir():\n",
    "        files=open(i,'r')\n",
    "        file.write('\\n'+files.read()+'\\n')\n",
    "        files.seek(0)\n",
    "        files.close()\n",
    "    file.close()\n",
    "    file=open('final_text_file.txt','r')\n",
    "    print('\\ncontent of file AFTER appending to final test file is \\n {} \\n'.format(file.read()))\n",
    "    file.close()\n",
    "    return 'Append Operation Completed. Please Verify the Result.'"
   ]
  },
  {
   "cell_type": "code",
   "execution_count": 6,
   "id": "5e6db06d",
   "metadata": {},
   "outputs": [
    {
     "name": "stdout",
     "output_type": "stream",
     "text": [
      "content of file BEFORE appending to final test file: \n",
      " This is my final test file newly created.\n",
      "\n",
      "content of file AFTER appending to final test file is \n",
      " This is my final test file newly created.\n",
      "This is my final test file newly created.\n",
      "\n",
      "This is my first test file.\n",
      "\n",
      "This is my second test file.\n",
      " \n",
      "\n"
     ]
    },
    {
     "data": {
      "text/plain": [
       "'Append Operation Completed. Please Verify the Result.'"
      ]
     },
     "execution_count": 6,
     "metadata": {},
     "output_type": "execute_result"
    }
   ],
   "source": [
    "append_text_files() # function call and execution"
   ]
  },
  {
   "cell_type": "code",
   "execution_count": 7,
   "id": "d85e9354",
   "metadata": {},
   "outputs": [
    {
     "name": "stdout",
     "output_type": "stream",
     "text": [
      "final_text_file.txt\n",
      "test1.txt\n",
      "test2.txt\n"
     ]
    }
   ],
   "source": [
    "for i in get_text_files_from_dir():\n",
    "    '''\n",
    "    In above output content from final test file is repeated twice as during runtime generator object has identified \n",
    "    final_text_file also as separated file and hence, appending by itself. \n",
    "    This can be overcome by creating list of text files from current directory \n",
    "    as list datatype so that it will be static object that doesn't gets altered even during runtime.\n",
    "    '''\n",
    "    print(i) "
   ]
  }
 ],
 "metadata": {
  "kernelspec": {
   "display_name": "Python 3",
   "language": "python",
   "name": "python3"
  },
  "language_info": {
   "codemirror_mode": {
    "name": "ipython",
    "version": 3
   },
   "file_extension": ".py",
   "mimetype": "text/x-python",
   "name": "python",
   "nbconvert_exporter": "python",
   "pygments_lexer": "ipython3",
   "version": "3.8.8"
  }
 },
 "nbformat": 4,
 "nbformat_minor": 5
}
