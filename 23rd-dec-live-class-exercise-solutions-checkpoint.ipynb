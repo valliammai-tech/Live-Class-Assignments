{
 "cells": [
  {
   "cell_type": "code",
   "execution_count": 1,
   "id": "7650e663",
   "metadata": {},
   "outputs": [
    {
     "data": {
      "text/plain": [
       "10"
      ]
     },
     "execution_count": 1,
     "metadata": {},
     "output_type": "execute_result"
    }
   ],
   "source": [
    "# 1) Write a function which will take a string and return a len of it without using a inbuilt function -> len\n",
    "\n",
    "def length(s):\n",
    "    counter=0\n",
    "    for i in s:\n",
    "        counter=counter+1\n",
    "    return counter\n",
    "\n",
    "length(\"valliammai\")"
   ]
  },
  {
   "cell_type": "code",
   "execution_count": 2,
   "id": "55943634",
   "metadata": {},
   "outputs": [
    {
     "name": "stdout",
     "output_type": "stream",
     "text": [
      "index of 4 is 0\n",
      "index of 3 is 1\n",
      "index of 2 is 2\n",
      "index of 1 is 3\n",
      "index of valli is 4\n",
      "index of (6+7j) is 5\n",
      "index of [1, 2, 3] is 6\n",
      "index of (1, 2, 3) is 7\n",
      "index of {4, 5, 6} is 8\n"
     ]
    }
   ],
   "source": [
    "# 2) write a function which will be able to print an index of all the premitive element which you will pass\n",
    "def index_check(l):\n",
    "    for i in range(0,len(l)):\n",
    "        print(\"index of {} is {}\".format(l[i],i))\n",
    "\n",
    "index_check([4,3,2,1,\"valli\",6+7j,[1,2,3],(1,2,3),{4,5,6,6}])"
   ]
  },
  {
   "cell_type": "code",
   "execution_count": 3,
   "id": "1c065932",
   "metadata": {},
   "outputs": [
    {
     "data": {
      "text/plain": [
       "[20, 30, 40, 50, 60]"
      ]
     },
     "execution_count": 3,
     "metadata": {},
     "output_type": "execute_result"
    }
   ],
   "source": [
    "# 3) write a function which will take input as a dict and give me output as list of all the values even in case of 2 level \n",
    "#    nesting it should work\n",
    "\n",
    "def nested_dict(d):\n",
    "    l1=[]\n",
    "    for i in d.values():\n",
    "        if type(i)==dict:\n",
    "            for j in i.values():\n",
    "                l1.append(j)\n",
    "        else:\n",
    "            l1.append(i)\n",
    "    return l1\n",
    "\n",
    "nested_dict({\"a\":20,\"b\":30,\"c\":40,\"d\":{\"e\":50,\"f\":60}})"
   ]
  },
  {
   "cell_type": "code",
   "execution_count": 4,
   "id": "2c775d63",
   "metadata": {},
   "outputs": [
    {
     "name": "stdout",
     "output_type": "stream",
     "text": [
      "Function2\n",
      "Function1\n"
     ]
    },
    {
     "data": {
      "text/plain": [
       "'This is function2'"
      ]
     },
     "execution_count": 4,
     "metadata": {},
     "output_type": "execute_result"
    }
   ],
   "source": [
    "# 4) write a function which will take another function as an input and return me an output\n",
    "\n",
    "def function_1():\n",
    "    print(\"Function1\")\n",
    "    return \"This is function1\"\n",
    "\n",
    "def function_2(a):\n",
    "    print(\"Function2\")\n",
    "    function_1()\n",
    "    return \"This is function2\"\n",
    "\n",
    "function_2(function_1)"
   ]
  },
  {
   "cell_type": "code",
   "execution_count": 5,
   "id": "df2b39ca",
   "metadata": {},
   "outputs": [
    {
     "data": {
      "text/plain": [
       "'123valli(6+7j)[4, 5, 6](7, 8, 9){3, 4}'"
      ]
     },
     "execution_count": 5,
     "metadata": {},
     "output_type": "execute_result"
    }
   ],
   "source": [
    "# 5) write a function which will take list as input and give me concatenation of all the elements as and output\n",
    "\n",
    "def list_concat(l):\n",
    "    c=\"\"\n",
    "    for i in l:\n",
    "        c=c+str(i)\n",
    "    return c\n",
    "\n",
    "list_concat([1,2,3,\"valli\",6+7j,[4,5,6],(7,8,9),{3,4,4,4,4}])"
   ]
  },
  {
   "cell_type": "code",
   "execution_count": 6,
   "id": "33b89fc7",
   "metadata": {},
   "outputs": [
    {
     "data": {
      "text/plain": [
       "[0, 1, 2, 3, 4, 5]"
      ]
     },
     "execution_count": 6,
     "metadata": {},
     "output_type": "execute_result"
    }
   ],
   "source": [
    "# 6) write a function which will be able to take a list as an input return an index of each element like a inbuilt index \n",
    "# function but even if we have repeatative element it should return index\n",
    "\n",
    "def list_index(l):\n",
    "    l4=[]\n",
    "    for i in range(0,len(l)):\n",
    "        l4.append(i)\n",
    "    return l4\n",
    "\n",
    "list_index([1,2,3,3,3,3])"
   ]
  },
  {
   "cell_type": "code",
   "execution_count": 15,
   "id": "e8828e23",
   "metadata": {},
   "outputs": [
    {
     "data": {
      "text/plain": [
       "['C:/Users/vmuth/Downloads\\\\1 - 1 - Why do we need machine learning- [13 min].mp4',\n",
       " 'C:/Users/vmuth/Downloads\\\\1115157525_Nov2021.pdf',\n",
       " 'C:/Users/vmuth/Downloads\\\\1639829288732.pdf',\n",
       " 'C:/Users/vmuth/Downloads\\\\4124_1550379888_0_Receipt_0020753115.pdf',\n",
       " 'C:/Users/vmuth/Downloads\\\\Anaconda3-2021.05-Windows-x86_64.exe',\n",
       " 'C:/Users/vmuth/Downloads\\\\Assignment_1.docx',\n",
       " 'C:/Users/vmuth/Downloads\\\\desktop.ini',\n",
       " 'C:/Users/vmuth/Downloads\\\\eSigned_2302102506.pdf',\n",
       " 'C:/Users/vmuth/Downloads\\\\MedHosPrint.pdf',\n",
       " 'C:/Users/vmuth/Downloads\\\\motivational_image.jpg',\n",
       " 'C:/Users/vmuth/Downloads\\\\pycharm-professional-2021.2.2.exe',\n",
       " 'C:/Users/vmuth/Downloads\\\\python basic.ipynb',\n",
       " 'C:/Users/vmuth/Downloads\\\\Template_for_declaration.xlsx',\n",
       " 'C:/Users/vmuth/Downloads\\\\VSCodeSetup-x64-1.61.1.exe',\n",
       " 'C:/Users/vmuth/Downloads\\\\~$signment_1.docx',\n",
       " 'C:/Users/vmuth/Downloads\\\\Anaconda\\\\Anaconda3-2021.05-Windows-x86_64.exe']"
      ]
     },
     "execution_count": 15,
     "metadata": {},
     "output_type": "execute_result"
    }
   ],
   "source": [
    "# 7) write a function which would return list of all the file name from a directory\n",
    "import os\n",
    "def directory_files(dirName):\n",
    "    list_of_files=[]\n",
    "    for (dirpath, dirnames, filenames) in os.walk(dirName):\n",
    "        list_of_files=list_of_files+[os.path.join(dirpath, file) for file in filenames]\n",
    "    return list_of_files\n",
    "        \n",
    "directory_files('C:/Users/vmuth/Downloads')"
   ]
  },
  {
   "cell_type": "code",
   "execution_count": 8,
   "id": "0cf940bf",
   "metadata": {},
   "outputs": [
    {
     "data": {
      "text/plain": [
       "uname_result(system='Windows', node='LAPTOP-AQQQFIVI', release='10', version='10.0.22000', machine='AMD64', processor='Intel64 Family 6 Model 140 Stepping 1, GenuineIntel')"
      ]
     },
     "execution_count": 8,
     "metadata": {},
     "output_type": "execute_result"
    }
   ],
   "source": [
    "# 8) write a function which will be able to show your system configuration\n",
    "\n",
    "import platform\n",
    "\n",
    "def system_config():\n",
    "    my_system=platform.uname()\n",
    "    return my_system\n",
    "\n",
    "system_config()"
   ]
  },
  {
   "cell_type": "code",
   "execution_count": 9,
   "id": "ac34f8bb",
   "metadata": {},
   "outputs": [
    {
     "data": {
      "text/plain": [
       "datetime.datetime(2022, 1, 13, 23, 1, 13, 893344, tzinfo=<DstTzInfo 'Asia/Kolkata' IST+5:30:00 STD>)"
      ]
     },
     "execution_count": 9,
     "metadata": {},
     "output_type": "execute_result"
    }
   ],
   "source": [
    "# 9) write a function which will show date and time\n",
    "\n",
    "import datetime\n",
    "import pytz\n",
    "\n",
    "def current_date_time():\n",
    "    return datetime.datetime.now(pytz.timezone('Asia/Kolkata'))\n",
    "\n",
    "current_date_time()"
   ]
  },
  {
   "cell_type": "code",
   "execution_count": 10,
   "id": "69b38251",
   "metadata": {},
   "outputs": [
    {
     "name": "stderr",
     "output_type": "stream",
     "text": [
      "ERROR: Could not find a version that satisfies the requirement cv2\n",
      "ERROR: No matching distribution found for cv2\n"
     ]
    }
   ],
   "source": [
    "!pip install cv2"
   ]
  },
  {
   "cell_type": "code",
   "execution_count": 11,
   "id": "d99a9e44",
   "metadata": {},
   "outputs": [
    {
     "name": "stdout",
     "output_type": "stream",
     "text": [
      "Requirement already satisfied: opencv-contrib-python in c:\\users\\vmuth\\anaconda3\\lib\\site-packages (4.5.5.62)\n",
      "Requirement already satisfied: numpy>=1.14.5 in c:\\users\\vmuth\\anaconda3\\lib\\site-packages (from opencv-contrib-python) (1.20.1)\n"
     ]
    }
   ],
   "source": [
    "!pip install opencv-contrib-python"
   ]
  },
  {
   "cell_type": "code",
   "execution_count": 12,
   "id": "6741f631",
   "metadata": {},
   "outputs": [],
   "source": [
    "# 10) write a function which will be able to read image file and show it to you\n",
    "\n",
    "import cv2\n",
    "\n",
    "def read_display_image(image_path):\n",
    "    img = cv2.imread(image_path,0)\n",
    "    cv2.imshow('Let us get motivated!!',img) #kernel dead only :(\n",
    "    cv2.waitKey(0) # to avoid kernel dead\n",
    "    cv2.destroyAllWindows() # to avoid kernel dead\n",
    "    \n",
    "read_display_image('C:/Users/vmuth/Downloads/motivational_image.jpg')"
   ]
  },
  {
   "cell_type": "code",
   "execution_count": null,
   "id": "3b16001f",
   "metadata": {},
   "outputs": [],
   "source": [
    "# 11) write a function which can read video file and play it for you"
   ]
  },
  {
   "cell_type": "code",
   "execution_count": 23,
   "id": "2ec3d821",
   "metadata": {},
   "outputs": [
    {
     "data": {
      "text/plain": [
       "'C:/Users/vmuth/Downloads\\\\Anaconda'"
      ]
     },
     "execution_count": 23,
     "metadata": {},
     "output_type": "execute_result"
    }
   ],
   "source": [
    "# 12) write a function which can move a file from one directory to another directory\n",
    "\n",
    "from shutil import move\n",
    "from os.path import exists\n",
    "\n",
    "def file_dir_to_dir(source,destination):\n",
    "    destination_path=destination\n",
    "    source_path=source\n",
    "\n",
    "    if os.path.exists(source_path):\n",
    "        file_new_location=move(source_path,destination_path)\n",
    "    else:\n",
    "        file_new_location='invalid path'\n",
    "        \n",
    "    return file_new_location\n",
    "    \n",
    "source='C:/Users/vmuth/Downloads\\doc\\motivational_image.jpg'\n",
    "destination='C:/Users/vmuth/Downloads\\\\Anaconda'\n",
    "\n",
    "file_dir_to_dir(source,destination)\n",
    "    "
   ]
  },
  {
   "cell_type": "code",
   "execution_count": 24,
   "id": "a884a7f9",
   "metadata": {},
   "outputs": [],
   "source": [
    "# 13) write a function which will be able to access your mail\n",
    "import os\n",
    "  \n",
    "def shutdown_your_system():\n",
    "    shutdown = input(\"Do you wish to shutdown your computer ? (yes / no): \")\n",
    "  \n",
    "    if shutdown == 'no':\n",
    "        exit()\n",
    "    else:\n",
    "        os.system(\"shutdown /s /t 1\")"
   ]
  },
  {
   "cell_type": "code",
   "execution_count": 25,
   "id": "7cc31472",
   "metadata": {},
   "outputs": [],
   "source": [
    "# 14) write a function bywhich i can send an email to anyone"
   ]
  },
  {
   "cell_type": "code",
   "execution_count": 11,
   "id": "546576bd",
   "metadata": {},
   "outputs": [
    {
     "name": "stdout",
     "output_type": "stream",
     "text": [
      "Requirement already satisfied: pdfplumber in c:\\users\\vmuth\\anaconda3\\lib\\site-packages (0.6.0)\n",
      "Requirement already satisfied: Pillow>=8.4 in c:\\users\\vmuth\\anaconda3\\lib\\site-packages (from pdfplumber) (9.0.0)\n",
      "Requirement already satisfied: Wand>=0.6.7 in c:\\users\\vmuth\\anaconda3\\lib\\site-packages (from pdfplumber) (0.6.7)\n",
      "Requirement already satisfied: pdfminer.six==20211012 in c:\\users\\vmuth\\anaconda3\\lib\\site-packages (from pdfplumber) (20211012)\n",
      "Requirement already satisfied: cryptography in c:\\users\\vmuth\\anaconda3\\lib\\site-packages (from pdfminer.six==20211012->pdfplumber) (3.4.7)\n",
      "Requirement already satisfied: chardet in c:\\users\\vmuth\\anaconda3\\lib\\site-packages (from pdfminer.six==20211012->pdfplumber) (4.0.0)\n",
      "Requirement already satisfied: cffi>=1.12 in c:\\users\\vmuth\\anaconda3\\lib\\site-packages (from cryptography->pdfminer.six==20211012->pdfplumber) (1.14.5)\n",
      "Requirement already satisfied: pycparser in c:\\users\\vmuth\\anaconda3\\lib\\site-packages (from cffi>=1.12->cryptography->pdfminer.six==20211012->pdfplumber) (2.20)\n",
      "Note: you may need to restart the kernel to use updated packages.\n"
     ]
    }
   ],
   "source": [
    "pip install pdfplumber"
   ]
  },
  {
   "cell_type": "code",
   "execution_count": 28,
   "id": "febf1cc1",
   "metadata": {},
   "outputs": [
    {
     "data": {
      "text/plain": [
       "'  Mindfire Solutions  Case Study \\nA SaaS APPLICATION ON TEXT MESSAGING \\nSOLUTIONS – A ColdFusion Case Study \\nExecutive Summary: \\nA  100%  open  rate,  98%  read  rate  and  90%  response  rate  is  an  enviable  figure  where  digital \\ncommunication  is  considered.  If  you  haven’t  guessed  it  already  the  above  statistics  are  for  text \\nmessages. The proliferation of mobile phones all over the world (it is already 100% in the USA) has led to \\nmany brands opting to include text messaging into their digital marketing strategy. Yet another statistics \\nstates that 43% of mobile advertisements prompted brand recall. These statistics confirm the fact that \\nmessages  delivered  via  mobile  text  advertising  are  more  personal  and  timelier  than  any  other \\nadvertising medium. The reach of mobile text advertising is even more owing to the ubiquity of mobile \\nphones as a constant companion in our lives. \\nAnd this is precisely our client’s business \\nplan. Developing a SaaS application on text \\nmessaging solutions that would help various \\nadvertisers  effectively  reach  their  target \\naudience  with  personal  messages  in  a \\ntimely manner was the top most priority for \\nthem.  Additionally  this  would  also  help \\nbuild a consumer database which could be \\nanalyzed further and contacted accordingly. \\nAs a software services provider they wanted \\nto  leverage  on  the  software  technologies \\nreadily  available  to  communicate  better \\nwith the target market. \\nApparently when the client contacted Mindfire, they had already been through a negative experience \\nwith the previous software vendor. However, the partnership with Mindfire proved to be a fruitful one \\nand now we are the primary software services provider for the client. They have also expressed interest \\nin Mindfire’s services when they would want to customize the platform, white label the product and \\naggressively market it to other domains. \\nAbout the Client: \\nClient: Mobile Messaging Services Provider \\nIndustry: Marketing and Advertising \\nLocation: USA \\nTechnologies Used:  \\nColdFusion10, SQL Server 2008, Bootstrap, ChartJS, BaseCamp, jUnit \\n \\ninfo@mindfiresolutions.com     www.mindfiresolutions.com  '"
      ]
     },
     "execution_count": 28,
     "metadata": {},
     "output_type": "execute_result"
    }
   ],
   "source": [
    "# 15) write a function to read complete PDF file\n",
    "\n",
    "import pdfplumber\n",
    "\n",
    "def read_pdf_file(file_path):\n",
    "    with pdfplumber.open(file_path) as temp:\n",
    "      first_page = temp.pages[0]\n",
    "      return (first_page.extract_text())\n",
    "\n",
    "read_pdf_file(\"C:/Users/vmuth/Downloads/SamplePdf1_12mb_6pages.pdf\")"
   ]
  },
  {
   "cell_type": "code",
   "execution_count": 35,
   "id": "1da19718",
   "metadata": {},
   "outputs": [
    {
     "data": {
      "text/plain": [
       "\"1. In the below elements which of them are values or an expression? eg:- values can be integer or string and expressions will be mathematical operators.\\n\\n* \\n\\n'hello'\\n\\n-87.8\\n\\n- \\n\\n/ \\n\\n\\n\\n6 \\n\\n\\n\\n2. What is the difference between string and variable?\\n\\n\\n\\n3. Describe three different data types.\\n\\n\\n\\n4. What is an expression made up of? What do all expressions do?\\n\\n5. This assignment statements, like spam = 10. What is the difference between an expression and a statement?\\n\\n6. After running the following code, what does the variable bacon contain?\\n\\nbacon = 22\\n\\nbacon + 1\\n\\n\\n\\n7. What should the values of the following two terms be?\\n\\n'spam' + 'spamspam'\\n\\n'spam' * 3\\n\\n\\n\\n8. Why is eggs a valid variable name while 100 is invalid?\\n\\n9. What three functions can be used to get the integer, floating-point number, or string version of a value?\\n\\n10. Why does this expression cause an error? How can you fix it?\\n\\n'I have eaten ' + 99 + ' burritos.'\""
      ]
     },
     "execution_count": 35,
     "metadata": {},
     "output_type": "execute_result"
    }
   ],
   "source": [
    "# 16) write a function to read word file\n",
    "\n",
    "import docx2txt\n",
    "\n",
    "def read_word_file(file_path):\n",
    "    content = docx2txt.process(file_path)\n",
    "    return content\n",
    "\n",
    "read_word_file(\"C:/Users/vmuth/Downloads/Assignment_1.docx\")"
   ]
  },
  {
   "cell_type": "code",
   "execution_count": 45,
   "id": "c485956c",
   "metadata": {},
   "outputs": [
    {
     "data": {
      "text/plain": [
       "['C:/Users/vmuth/Downloads\\\\Assignment_1.docx',\n",
       " 'C:/Users/vmuth/Downloads\\\\~$signment_1.docx']"
      ]
     },
     "execution_count": 45,
     "metadata": {},
     "output_type": "execute_result"
    }
   ],
   "source": [
    "# 17) write a function which can help you to filter only word file from a directory\n",
    "\n",
    "import glob\n",
    "import os\n",
    "\n",
    "dir_name = 'C:/Users/vmuth/Downloads/'\n",
    "\n",
    "def filter_word_file_in_dir(dir_name):\n",
    "    list_of_files = (filter( os.path.isfile,glob.glob(dir_name + '*.docx')))\n",
    "    return list(list_of_files)\n",
    "\n",
    "filter_word_file_in_dir(dir_name)"
   ]
  },
  {
   "cell_type": "code",
   "execution_count": 49,
   "id": "3e99bf4b",
   "metadata": {},
   "outputs": [
    {
     "data": {
      "text/plain": [
       "'192.168.29.7'"
      ]
     },
     "execution_count": 49,
     "metadata": {},
     "output_type": "execute_result"
    }
   ],
   "source": [
    "# 18) write a function by which you can print ip address of your system\n",
    "\n",
    "import socket\n",
    "\n",
    "def get_system_ip_address():\n",
    "    hostname=socket.gethostname()\n",
    "    ip_address=socket.gethostbyname(hostname)\n",
    "    return ip_address\n",
    "\n",
    "get_system_ip_address()"
   ]
  },
  {
   "cell_type": "code",
   "execution_count": 58,
   "id": "642dcbfd",
   "metadata": {},
   "outputs": [],
   "source": [
    "# 19) write a function by which  you will be able to append two pdf files\n",
    "\n",
    "import PyPDF2 \n",
    "\n",
    "def merge_pdfs(pdf_files):\n",
    "    filemerger = PyPDF2.PdfFileMerger()\n",
    "    for i in pdf_files:\n",
    "        filemerger.append(PyPDF2.PdfFileReader(i, 'rb'))\n",
    "    return filemerger.write(\"C:/Users/vmuth/Downloads/New_Merged_File.pdf\")\n",
    "\n",
    "merge_pdfs(['C:/Users/vmuth/Downloads/SamplePdf_1.73Mb_87_Page.pdf','C:/Users/vmuth/Downloads/SamplePdf1_12mb_6pages.pdf'])"
   ]
  }
 ],
 "metadata": {
  "kernelspec": {
   "display_name": "Python 3",
   "language": "python",
   "name": "python3"
  },
  "language_info": {
   "codemirror_mode": {
    "name": "ipython",
    "version": 3
   },
   "file_extension": ".py",
   "mimetype": "text/x-python",
   "name": "python",
   "nbconvert_exporter": "python",
   "pygments_lexer": "ipython3",
   "version": "3.8.8"
  }
 },
 "nbformat": 4,
 "nbformat_minor": 5
}
